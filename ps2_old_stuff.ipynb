{
 "cells": [
  {
   "cell_type": "markdown",
   "metadata": {},
   "source": [
    "gmm methods:\n",
    "GMM\n",
    "IVGMM\n",
    "IVGMM(endog, exog, instrument, k_moms=None, k_params=None, missing='none', **kwds)\n",
    "NonlinearIVGMM"
   ]
  },
  {
   "cell_type": "code",
   "execution_count": null,
   "metadata": {},
   "outputs": [],
   "source": [
    "mdl = gmm.IV2SLS(\n",
    "    endog=df['y'],\n",
    "    exog=df[['x0', 'x1', 'x2']],\n",
    "    instrument=df[['x0', 'x1', 'z_moderate']],\n",
    ").fit()\n",
    "mdl.params"
   ]
  },
  {
   "cell_type": "code",
   "execution_count": null,
   "metadata": {},
   "outputs": [],
   "source": [
    "mdl = gmm.IVGMM(\n",
    "    endog=df['y'],\n",
    "    exog=df[['x0', 'x1', 'x2']],\n",
    "    instrument=df[['x0', 'x1', 'z_moderate']],\n",
    ").fit()\n",
    "pd.Series(mdl.params, index=['x0', 'x1', 'x2'])"
   ]
  },
  {
   "cell_type": "code",
   "execution_count": null,
   "metadata": {},
   "outputs": [],
   "source": [
    "# it can be the case that matrix above is not positive semi-definite, thus\n",
    "# permute covariance matrix by changing correlation among instrument variables until it is positive definite\n",
    "np.random.seed(123)\n",
    "ctn = True\n",
    "k = 0\n",
    "kMax = 100\n",
    "_params_cov = np.array([list(row[:]) for row in params['cov']])\n",
    "while ctn and k < kMax:\n",
    "    for i in range(len(params['cov'])):\n",
    "        for j in range(len(params['cov'])):\n",
    "            if(np.all(np.linalg.eigvals(params['cov']) > 0)):\n",
    "                ctn = False\n",
    "            if(ctn and i != j and i in [2,3,4,5] and j in [2,3,4,5]):\n",
    "                params['cov'][i,j] = params['cov'][j,i] = round(np.random.uniform(),2)\n",
    "            if(params['cov'][i,j] != params['cov'][j,i]):\n",
    "                raise ValueError(\"Covariance matrix is non symmetric\")\n",
    "    k += 1\n",
    "    if(ctn and k == kMax):\n",
    "        params['cov'] = np.array([list(row[:]) for row in _params_cov])\n",
    "        params['cov'][2,1] = params['cov'][1,2] = params['cov_x2_z_strong'] = round(params['cov_x2_z_strong']-0.01,2)\n",
    "        k = 0\n",
    "        \n",
    "        print(\"Covariance of x2 and strongest instrument z_strong had been lowered from to\", params['cov_x2_z_strong'], \"in order to find p.s. matrix.\")\n",
    "np.random.seed(None)\n",
    "if(not ctn):\n",
    "    print(\"successfully found positive definite matrix at iteration\", k-1)        \n",
    "else:\n",
    "    print(\"Covariance matrix is not positive definite!\")"
   ]
  }
 ],
 "metadata": {
  "language_info": {
   "name": "python"
  },
  "orig_nbformat": 4
 },
 "nbformat": 4,
 "nbformat_minor": 2
}
